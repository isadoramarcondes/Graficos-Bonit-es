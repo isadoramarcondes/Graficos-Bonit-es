{
 "cells": [
  {
   "cell_type": "code",
   "execution_count": null,
   "id": "094f9809-6d8b-4c1f-bf4a-fffd1e06637d",
   "metadata": {},
   "outputs": [],
   "source": [
    "#configurações\n",
    "import matplotlib.pyplot as plt\n",
    "import pandas as pd\n",
    "import numpy as np\n",
    "import lmfit\n",
    "config = {'axes.spines.right': False,\n",
    "'axes.spines.top': False,\n",
    "'axes.edgecolor': '.4',\n",
    "'axes.labelcolor': '.0',\n",
    "'axes.titlesize': 'large',\n",
    "'axes.labelsize': 'medium',\n",
    "'figure.autolayout': True,\n",
    "'figure.figsize': (4.5, 3.5),\n",
    "'font.family': ['serif'],\n",
    "'font.size': 10.0,\n",
    "'grid.linestyle': '--',\n",
    "'legend.facecolor': '.9',\n",
    "'legend.frameon': True,\n",
    "'savefig.transparent': True,\n",
    "'text.color': '.0',\n",
    "'xtick.labelsize': 'small',\n",
    "'ytick.labelsize': 'small',}\n",
    "\n",
    "plt.style.use(['seaborn-whitegrid', 'seaborn-paper', 'seaborn-muted', config])\n",
    "\n",
    "#entrada dos dados\n",
    "#Adicionar caminho e renomear variaveis\n",
    "path = r'' #caminho do arquivo excel\n",
    "data = pd.read_excel(path)\n",
    "x = data[''].to_numpy()[0:] #coluna do excel para o x\n",
    "y = data[''].to_numpy()[0:] #coluna do excel para o y"
   ]
  },
  {
   "cell_type": "code",
   "execution_count": null,
   "id": "e6467494-eee2-4a37-9421-933a9b12a4a3",
   "metadata": {},
   "outputs": [],
   "source": [
    "#Barras de incerteza\n",
    "#renomear as variaveis\n",
    "ux = data[''].to_numpy()[0:] #coluna excel com incertezas dos x\n",
    "uy = data[''].to_numpy()[0:] #coluna excel com incertezas dos y"
   ]
  },
  {
   "cell_type": "code",
   "execution_count": null,
   "id": "69c72a13-4842-41ac-b998-9ffdcdce1c81",
   "metadata": {},
   "outputs": [],
   "source": [
    "#regressão linear\n",
    "def reta(x, a, b):\n",
    "    return a*x + b\n",
    "\n",
    "reta_model=lmfit.Model(reta)\n",
    "\n",
    "#se der errado tentar mexer nesses valores do chute inicial:\n",
    "reta_model.set_param_hint('a',value=2.4129,min= -1000000,max=3000000,vary=True) \n",
    "reta_model.set_param_hint('b',value=0.0014,min=-200000,max=2000000,vary=True) \n",
    "param = reta_model.make_params()\n",
    "\n",
    "results = reta_model.fit(y, x = x, params = param)\n",
    "print(results.fit_report())\n",
    "\n",
    "ax1.plot(x,results.best_fit,label=\"Regressão Linear\", c = 'r')\n",
    "\n",
    "ax1.legend(fontsize='small')"
   ]
  },
  {
   "cell_type": "markdown",
   "id": "17d269a5-69e9-499f-be94-380caca57336",
   "metadata": {},
   "source": [
    "## Plots"
   ]
  },
  {
   "cell_type": "code",
   "execution_count": null,
   "id": "6cd884d6-951f-41d9-90ba-eae3e04300e6",
   "metadata": {},
   "outputs": [],
   "source": [
    "# escolher tipo de grafico tirando as hashtag\n",
    "fig,ax1 = plt.subplots(1,1)\n",
    "ax1.tick_params(direction='in', which='both',top=True,right=True,labelsize=12)\n",
    "#Labels\n",
    "ax1.set_ylabel('legenda y',fontsize=12)\n",
    "ax1.set_xlabel('legenda x',fontsize=12)\n",
    "\n",
    "#Sem barra de erros:\n",
    "#ax1.plot(x,y)\n",
    "\n",
    "#Com barra de erros:\n",
    "#ax1.errorbar(x, y, yerr=uy1, xerr=0, fmt='o',elinewidth=1,capsize=3,capthick=1,ms=3,c='b',ecolor='black')\n",
    "\n",
    "#Regressão Linear:\n",
    "#ax1.plot(x,results.best_fit,label=\"Regressão Linear\", c = 'r') ; ax1.legend(fontsize='small')\n",
    "\n",
    "#salvar e mostrar:\n",
    "plt.tight_layout()\n",
    "plt.savefig('nome_arquivo.png', dpi=200)\n",
    "plt.show()"
   ]
  }
 ],
 "metadata": {
  "kernelspec": {
   "display_name": "ilumpy",
   "language": "python",
   "name": "ilumpy"
  },
  "language_info": {
   "codemirror_mode": {
    "name": "ipython",
    "version": 3
   },
   "file_extension": ".py",
   "mimetype": "text/x-python",
   "name": "python",
   "nbconvert_exporter": "python",
   "pygments_lexer": "ipython3",
   "version": "3.9.7"
  }
 },
 "nbformat": 4,
 "nbformat_minor": 5
}
